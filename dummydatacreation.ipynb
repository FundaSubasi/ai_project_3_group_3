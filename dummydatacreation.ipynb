{
 "cells": [
  {
   "cell_type": "markdown",
   "id": "0ca1da64-8644-4940-99ac-131d1e3f157a",
   "metadata": {},
   "source": [
    "### Generating Synthetic Data for Model Accuracy Testing\n",
    "\n",
    "Creating a synthetic dataset of 250,000 individuals with correctly matched diseases and symptoms is crucial for testing the accuracy of a deep learning model. This large and diverse dataset ensures that the model can learn from various examples, including cases with different numbers of symptoms. By simulating real-world scenarios where a disease might present itself with a range of symptoms, we can evaluate how well the model can predict the correct disease based on input symptoms. A population size of 250,000 is adequate because it provides enough variation and data points for the model to generalize well, making it more robust and accurate in real-world applications.\n",
    "\n",
    "- **Diversity of Data:** A large dataset allows the model to learn from different scenarios, increasing its ability to generalize and perform well on unseen data.\n",
    "- **Model Evaluation:** Testing on a dataset of this size ensures that the model's accuracy is assessed over a wide range of possible symptom combinations, which is vital for its reliability.\n",
    "- **Realistic Training:** By simulating a large population, we mimic real-world conditions, providing a strong foundation for the model to perform accurately when deployed in real-life medical diagnostics.\n"
   ]
  },
  {
   "cell_type": "code",
   "execution_count": 52,
   "id": "bec7ec43-1eb2-4454-a8c4-9d1644cbb774",
   "metadata": {},
   "outputs": [],
   "source": [
    "import pandas as pd\n",
    "import numpy as np"
   ]
  },
  {
   "cell_type": "code",
   "execution_count": 54,
   "id": "3613f827-c85f-4f34-bd39-448acd137a42",
   "metadata": {},
   "outputs": [],
   "source": [
    "# Load the dataset\n",
    "dataset_path = 'resources/dataset.csv'\n",
    "df = pd.read_csv(dataset_path)\n"
   ]
  },
  {
   "cell_type": "code",
   "execution_count": 56,
   "id": "5a59cc6e-e849-4e30-abf5-8a3501214053",
   "metadata": {},
   "outputs": [],
   "source": [
    "# List of symptom columns\n",
    "symptom_columns = ['Symptom_1', 'Symptom_2', 'Symptom_3', 'Symptom_4',\n",
    "                   'Symptom_5', 'Symptom_6', 'Symptom_7', 'Symptom_8',\n",
    "                   'Symptom_9', 'Symptom_10', 'Symptom_11', 'Symptom_12',\n",
    "                   'Symptom_13', 'Symptom_14', 'Symptom_15', 'Symptom_16',\n",
    "                   'Symptom_17']\n"
   ]
  },
  {
   "cell_type": "code",
   "execution_count": 58,
   "id": "724ff5ef-85c8-4625-9bfe-75b3d4ffcb20",
   "metadata": {},
   "outputs": [],
   "source": [
    "# Identify all unique disease-symptom combinations\n",
    "unique_combinations = df.dropna(subset=['Disease']).drop_duplicates()"
   ]
  },
  {
   "cell_type": "code",
   "execution_count": 60,
   "id": "e62841ed-bd28-44da-8e72-1eb223b8f9a1",
   "metadata": {},
   "outputs": [],
   "source": [
    "# Set the target number of instances (change this value as needed)\n",
    "target_instances = 250000  # Example: Adjust this to your desired number"
   ]
  },
  {
   "cell_type": "code",
   "execution_count": 62,
   "id": "278a6b5b-9c45-40b8-acf7-466f2f062c6d",
   "metadata": {},
   "outputs": [],
   "source": [
    "# Calculate the number of unique combinations and instances per combination\n",
    "num_combinations = len(unique_combinations)\n",
    "instances_per_combination = target_instances // num_combinations"
   ]
  },
  {
   "cell_type": "code",
   "execution_count": 64,
   "id": "f887bdd3-0c05-439d-8cfe-05ee773488b7",
   "metadata": {},
   "outputs": [],
   "source": [
    "# Prepare the synthetic data\n",
    "synthetic_data = []"
   ]
  },
  {
   "cell_type": "code",
   "execution_count": 66,
   "id": "3912c246-17b9-4289-9b77-06dcf5b19e09",
   "metadata": {},
   "outputs": [],
   "source": [
    "# Generate instances for each unique disease-symptom combination\n",
    "for _, combination_row in unique_combinations.iterrows():\n",
    "    disease = combination_row['Disease']\n",
    "    symptoms = combination_row[symptom_columns].dropna().tolist()\n",
    "    \n",
    "    for _ in range(instances_per_combination):\n",
    "        # Create a row with the disease and all corresponding symptoms\n",
    "        row = [disease] + symptoms + [None] * (17 - len(symptoms))\n",
    "        \n",
    "        # Append to the synthetic data list\n",
    "        synthetic_data.append(row)"
   ]
  },
  {
   "cell_type": "code",
   "execution_count": 68,
   "id": "ea92a363-51b3-48ff-87c6-c7219261cfaa",
   "metadata": {},
   "outputs": [],
   "source": [
    "# Handle any remainder instances due to integer division by distributing them evenly\n",
    "remaining_instances = target_instances - len(synthetic_data)\n",
    "combination_indices = list(unique_combinations.index)\n"
   ]
  },
  {
   "cell_type": "code",
   "execution_count": 70,
   "id": "56021fc1-183b-47dd-b0a5-5baf99639cb9",
   "metadata": {},
   "outputs": [],
   "source": [
    "# Distribute the remaining instances evenly\n",
    "for i in range(remaining_instances):\n",
    "    # Cycle through the unique combinations\n",
    "    combination_row = unique_combinations.loc[combination_indices[i % num_combinations]]\n",
    "    disease = combination_row['Disease']\n",
    "    symptoms = combination_row[symptom_columns].dropna().tolist()\n",
    "    \n",
    "    # Create a row with the disease and all corresponding symptoms\n",
    "    row = [disease] + symptoms + [None] * (17 - len(symptoms))\n",
    "    \n",
    "    # Append to the synthetic data list\n",
    "    synthetic_data.append(row)"
   ]
  },
  {
   "cell_type": "code",
   "execution_count": 72,
   "id": "5d1a2b01-90cf-459f-997a-567abd6546c4",
   "metadata": {},
   "outputs": [],
   "source": [
    "# Convert the list to a DataFrame\n",
    "synthetic_df = pd.DataFrame(synthetic_data, columns=['Disease'] + symptom_columns)"
   ]
  },
  {
   "cell_type": "code",
   "execution_count": 74,
   "id": "f78d4636-c6a0-4da0-a214-3193593eb622",
   "metadata": {},
   "outputs": [],
   "source": [
    "# Save the generated dataset to the resources folder\n",
    "synthetic_df.to_csv('resources/synthetic_disease_data.csv', index=False)"
   ]
  },
  {
   "cell_type": "code",
   "execution_count": null,
   "id": "fa99c43d-e9d4-4a0d-9927-ad41e078526d",
   "metadata": {},
   "outputs": [],
   "source": []
  }
 ],
 "metadata": {
  "kernelspec": {
   "display_name": "Python 3 (ipykernel)",
   "language": "python",
   "name": "python3"
  },
  "language_info": {
   "codemirror_mode": {
    "name": "ipython",
    "version": 3
   },
   "file_extension": ".py",
   "mimetype": "text/x-python",
   "name": "python",
   "nbconvert_exporter": "python",
   "pygments_lexer": "ipython3",
   "version": "3.12.4"
  }
 },
 "nbformat": 4,
 "nbformat_minor": 5
}
