{
 "cells": [
  {
   "cell_type": "markdown",
   "id": "0ca1da64-8644-4940-99ac-131d1e3f157a",
   "metadata": {},
   "source": [
    "### Generating Synthetic Data for Model Accuracy Testing\n",
    "\n",
    "Creating a synthetic dataset of 250,000 individuals with correctly matched diseases and symptoms is crucial for testing the accuracy of a deep learning model. This large and diverse dataset ensures that the model can learn from various examples, including cases with different numbers of symptoms. By simulating real-world scenarios where a disease might present itself with a range of symptoms, we can evaluate how well the model can predict the correct disease based on input symptoms. A population size of 250,000 is adequate because it provides enough variation and data points for the model to generalize well, making it more robust and accurate in real-world applications.\n",
    "\n",
    "- **Diversity of Data:** A large dataset allows the model to learn from different scenarios, increasing its ability to generalize and perform well on unseen data.\n",
    "- **Model Evaluation:** Testing on a dataset of this size ensures that the model's accuracy is assessed over a wide range of possible symptom combinations, which is vital for its reliability.\n",
    "- **Realistic Training:** By simulating a large population, we mimic real-world conditions, providing a strong foundation for the model to perform accurately when deployed in real-life medical diagnostics.\n"
   ]
  },
  {
   "cell_type": "code",
   "execution_count": 2,
   "id": "bec7ec43-1eb2-4454-a8c4-9d1644cbb774",
   "metadata": {},
   "outputs": [],
   "source": [
    "import pandas as pd\n",
    "import numpy as np"
   ]
  },
  {
   "cell_type": "code",
   "execution_count": 4,
   "id": "e0d18650-4da6-46ed-a2d7-c05e2f20663e",
   "metadata": {},
   "outputs": [],
   "source": [
    "# Load the dataset\n",
    "dataset_path = 'resources/dataset.csv'\n",
    "df = pd.read_csv(dataset_path)"
   ]
  },
  {
   "cell_type": "code",
   "execution_count": 6,
   "id": "ff7773fa-002f-4a20-942b-ff44d395aa23",
   "metadata": {},
   "outputs": [],
   "source": [
    "# List of symptom columns\n",
    "symptom_columns = ['Symptom_1', 'Symptom_2', 'Symptom_3', 'Symptom_4',\n",
    "                   'Symptom_5', 'Symptom_6', 'Symptom_7', 'Symptom_8',\n",
    "                   'Symptom_9', 'Symptom_10', 'Symptom_11', 'Symptom_12',\n",
    "                   'Symptom_13', 'Symptom_14', 'Symptom_15', 'Symptom_16',\n",
    "                   'Symptom_17']"
   ]
  },
  {
   "cell_type": "code",
   "execution_count": 8,
   "id": "27a3e408-bb72-4c29-a9f2-bd0fedff4946",
   "metadata": {},
   "outputs": [],
   "source": [
    "# Prepare the synthetic data\n",
    "synthetic_data = []"
   ]
  },
  {
   "cell_type": "code",
   "execution_count": 12,
   "id": "53e0e25f-7466-4ba7-b5a6-683d48e45ec5",
   "metadata": {},
   "outputs": [],
   "source": [
    "# Generate 250,000 individuals\n",
    "for _ in range(250000):\n",
    "    # Randomly choose a disease\n",
    "    disease_row = df.sample().iloc[0]\n",
    "    disease = disease_row['Disease']\n",
    "    \n",
    "    # Get the actual symptoms for this disease\n",
    "    symptoms = disease_row[symptom_columns].dropna().tolist()\n",
    "    \n",
    "    # Randomly choose the number of symptoms (between 1 and the number of available symptoms)\n",
    "    num_symptoms = np.random.randint(1, len(symptoms) + 1)\n",
    "    \n",
    "    # Randomly select the specified number of symptoms\n",
    "    selected_symptoms = np.random.choice(symptoms, num_symptoms, replace=False)\n",
    "    \n",
    "    # Create a row with the disease and selected symptoms\n",
    "    row = [disease] + selected_symptoms.tolist() + [None] * (17 - num_symptoms)\n",
    "    \n",
    "    # Append to the synthetic data list\n",
    "    synthetic_data.append(row)"
   ]
  },
  {
   "cell_type": "code",
   "execution_count": 13,
   "id": "1eb319c0-4020-46f3-b3e4-4ca89cad6955",
   "metadata": {},
   "outputs": [],
   "source": [
    "# Convert the list to a DataFrame\n",
    "synthetic_df = pd.DataFrame(synthetic_data, columns=['Disease'] + symptom_columns)"
   ]
  },
  {
   "cell_type": "code",
   "execution_count": 14,
   "id": "d9ec6f1c-6a69-4379-a101-2fcf9f362c09",
   "metadata": {},
   "outputs": [],
   "source": [
    "# Save the generated dataset to the resources folder\n",
    "synthetic_df.to_csv('resources/synthetic_disease_data.csv', index=False)"
   ]
  },
  {
   "cell_type": "code",
   "execution_count": null,
   "id": "a6818b3d-5fdd-436d-b8b0-bfa84617bddc",
   "metadata": {},
   "outputs": [],
   "source": []
  },
  {
   "cell_type": "code",
   "execution_count": null,
   "id": "e711419d-5e67-41bf-abd1-7ac5198725ff",
   "metadata": {},
   "outputs": [],
   "source": []
  },
  {
   "cell_type": "code",
   "execution_count": null,
   "id": "36b18814-9374-45c3-be49-64c4612c3f66",
   "metadata": {},
   "outputs": [],
   "source": []
  },
  {
   "cell_type": "code",
   "execution_count": null,
   "id": "e4f5e1fb-1250-4873-bb6b-7350d9a3ab2a",
   "metadata": {},
   "outputs": [],
   "source": []
  },
  {
   "cell_type": "code",
   "execution_count": null,
   "id": "93fca653-0ff1-45c3-8bcb-23085f18141e",
   "metadata": {},
   "outputs": [],
   "source": []
  },
  {
   "cell_type": "code",
   "execution_count": null,
   "id": "c1b67a67-9a7b-4d81-92a7-7bc2d563c34e",
   "metadata": {},
   "outputs": [],
   "source": []
  },
  {
   "cell_type": "code",
   "execution_count": null,
   "id": "ca18dc72-825b-436f-b59d-ec6b68e20d96",
   "metadata": {},
   "outputs": [],
   "source": []
  }
 ],
 "metadata": {
  "kernelspec": {
   "display_name": "Python 3 (ipykernel)",
   "language": "python",
   "name": "python3"
  },
  "language_info": {
   "codemirror_mode": {
    "name": "ipython",
    "version": 3
   },
   "file_extension": ".py",
   "mimetype": "text/x-python",
   "name": "python",
   "nbconvert_exporter": "python",
   "pygments_lexer": "ipython3",
   "version": "3.12.4"
  }
 },
 "nbformat": 4,
 "nbformat_minor": 5
}
